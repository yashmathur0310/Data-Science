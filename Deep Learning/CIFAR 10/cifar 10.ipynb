{
 "cells": [
  {
   "cell_type": "code",
   "execution_count": 1,
   "metadata": {},
   "outputs": [],
   "source": [
    "import tensorflow as tf\n",
    "from tensorflow.keras import datasets,models,layers\n",
    "import matplotlib.pyplot as plt\n",
    "import numpy as np\n",
    "from tensorflow import keras"
   ]
  },
  {
   "cell_type": "code",
   "execution_count": 2,
   "metadata": {},
   "outputs": [],
   "source": [
    "(x_train,y_train),(x_test,y_test)=datasets.cifar10.load_data()"
   ]
  },
  {
   "cell_type": "code",
   "execution_count": 3,
   "metadata": {},
   "outputs": [],
   "source": [
    "labels=['airplane','automobile','bird','cat','deer','dog','frog','horse','ship','truck']\n",
    "y_train=y_train.reshape(-1,)"
   ]
  },
  {
   "cell_type": "code",
   "execution_count": 4,
   "metadata": {},
   "outputs": [],
   "source": [
    "def plot_sample(x,y,index):\n",
    "    plt.figure(figsize=(15,2))\n",
    "    plt.imshow(x[index])\n",
    "    plt.title(labels[y[index]])"
   ]
  },
  {
   "cell_type": "code",
   "execution_count": 5,
   "metadata": {},
   "outputs": [
    {
     "data": {
      "image/png": "[encoded data removed]",
      "text/plain": [
       "<Figure size 1080x144 with 1 Axes>"
      ]
     },
     "metadata": {
      "needs_background": "light"
     },
     "output_type": "display_data"
    }
   ],
   "source": [
    "plot_sample(x_train,y_train,1)"
   ]
  },
  {
   "cell_type": "code",
   "execution_count": 6,
   "metadata": {},
   "outputs": [
    {
     "data": {
      "image/png": "[encoded data removed]",
      "text/plain": [
       "<Figure size 1080x144 with 1 Axes>"
      ]
     },
     "metadata": {
      "needs_background": "light"
     },
     "output_type": "display_data"
    }
   ],
   "source": [
    "plot_sample(x_train,y_train,4)"
   ]
  },
  {
   "cell_type": "code",
   "execution_count": 7,
   "metadata": {},
   "outputs": [],
   "source": [
    "x_train=x_train/255\n",
    "x_test=x_test/255"
   ]
  },
  {
   "cell_type": "markdown",
   "metadata": {},
   "source": [
    "## Now we will train the model with ann "
   ]
  },
  {
   "cell_type": "code",
   "execution_count": 14,
   "metadata": {
    "scrolled": true
   },
   "outputs": [
    {
     "name": "stdout",
     "output_type": "stream",
     "text": [
      "Epoch 1/60\n",
      "98/98 [==============================] - 12s 123ms/step - loss: 2.8145 - accuracy: 0.2321\n",
      "Epoch 2/60\n",
      "98/98 [==============================] - 12s 118ms/step - loss: 1.7676 - accuracy: 0.3694\n",
      "Epoch 3/60\n",
      "98/98 [==============================] - 14s 147ms/step - loss: 1.6597 - accuracy: 0.4107\n",
      "Epoch 4/60\n",
      "98/98 [==============================] - 13s 130ms/step - loss: 1.6001 - accuracy: 0.4309\n",
      "Epoch 5/60\n",
      "98/98 [==============================] - 14s 141ms/step - loss: 1.5441 - accuracy: 0.4538\n",
      "Epoch 6/60\n",
      "98/98 [==============================] - 13s 129ms/step - loss: 1.5020 - accuracy: 0.4679\n",
      "Epoch 7/60\n",
      "98/98 [==============================] - 12s 127ms/step - loss: 1.4701 - accuracy: 0.4794\n",
      "Epoch 8/60\n",
      "98/98 [==============================] - 15s 153ms/step - loss: 1.4450 - accuracy: 0.4882\n",
      "Epoch 9/60\n",
      "98/98 [==============================] - 13s 133ms/step - loss: 1.4175 - accuracy: 0.4958\n",
      "Epoch 10/60\n",
      "98/98 [==============================] - 13s 133ms/step - loss: 1.3929 - accuracy: 0.5059\n",
      "Epoch 11/60\n",
      "98/98 [==============================] - 14s 139ms/step - loss: 1.3668 - accuracy: 0.5162\n",
      "Epoch 12/60\n",
      "98/98 [==============================] - 13s 133ms/step - loss: 1.3441 - accuracy: 0.5224\n",
      "Epoch 13/60\n",
      "98/98 [==============================] - 13s 131ms/step - loss: 1.3146 - accuracy: 0.5344\n",
      "Epoch 14/60\n",
      "98/98 [==============================] - 13s 138ms/step - loss: 1.2862 - accuracy: 0.5449\n",
      "Epoch 15/60\n",
      "98/98 [==============================] - 14s 140ms/step - loss: 1.2728 - accuracy: 0.5500\n",
      "Epoch 16/60\n",
      "98/98 [==============================] - 14s 146ms/step - loss: 1.2419 - accuracy: 0.5593\n",
      "Epoch 17/60\n",
      "98/98 [==============================] - 14s 140ms/step - loss: 1.2254 - accuracy: 0.5664\n",
      "Epoch 18/60\n",
      "98/98 [==============================] - 15s 153ms/step - loss: 1.1972 - accuracy: 0.5766\n",
      "Epoch 19/60\n",
      "98/98 [==============================] - 14s 145ms/step - loss: 1.1743 - accuracy: 0.5862\n",
      "Epoch 20/60\n",
      "98/98 [==============================] - 14s 139ms/step - loss: 1.1596 - accuracy: 0.5889\n",
      "Epoch 21/60\n",
      "98/98 [==============================] - 14s 138ms/step - loss: 1.1330 - accuracy: 0.5995\n",
      "Epoch 22/60\n",
      "98/98 [==============================] - 14s 143ms/step - loss: 1.1333 - accuracy: 0.6001\n",
      "Epoch 23/60\n",
      "98/98 [==============================] - 15s 149ms/step - loss: 1.0997 - accuracy: 0.6117\n",
      "Epoch 24/60\n",
      "98/98 [==============================] - 13s 135ms/step - loss: 1.0801 - accuracy: 0.6192\n",
      "Epoch 25/60\n",
      "98/98 [==============================] - 14s 139ms/step - loss: 1.0669 - accuracy: 0.6232\n",
      "Epoch 26/60\n",
      "98/98 [==============================] - 13s 131ms/step - loss: 1.0445 - accuracy: 0.6314\n",
      "Epoch 27/60\n",
      "98/98 [==============================] - 13s 131ms/step - loss: 1.0225 - accuracy: 0.6386\n",
      "Epoch 28/60\n",
      "98/98 [==============================] - 12s 123ms/step - loss: 1.0073 - accuracy: 0.6421\n",
      "Epoch 29/60\n",
      "98/98 [==============================] - 13s 128ms/step - loss: 0.9838 - accuracy: 0.6543\n",
      "Epoch 30/60\n",
      "98/98 [==============================] - 13s 133ms/step - loss: 0.9740 - accuracy: 0.6555\n",
      "Epoch 31/60\n",
      "98/98 [==============================] - 13s 128ms/step - loss: 0.9535 - accuracy: 0.6623\n",
      "Epoch 32/60\n",
      "98/98 [==============================] - 12s 127ms/step - loss: 0.9276 - accuracy: 0.6724\n",
      "Epoch 33/60\n",
      "98/98 [==============================] - 12s 122ms/step - loss: 0.9139 - accuracy: 0.6787\n",
      "Epoch 34/60\n",
      "98/98 [==============================] - 12s 127ms/step - loss: 0.8959 - accuracy: 0.6854\n",
      "Epoch 35/60\n",
      "98/98 [==============================] - 11s 117ms/step - loss: 0.8794 - accuracy: 0.6889\n",
      "Epoch 36/60\n",
      "98/98 [==============================] - 11s 113ms/step - loss: 0.8505 - accuracy: 0.7016\n",
      "Epoch 37/60\n",
      "98/98 [==============================] - 11s 116ms/step - loss: 0.8549 - accuracy: 0.7000\n",
      "Epoch 38/60\n",
      "98/98 [==============================] - 11s 117ms/step - loss: 0.8162 - accuracy: 0.7126\n",
      "Epoch 39/60\n",
      "98/98 [==============================] - 11s 116ms/step - loss: 0.8032 - accuracy: 0.7189\n",
      "Epoch 40/60\n",
      "98/98 [==============================] - 12s 118ms/step - loss: 0.7923 - accuracy: 0.7212\n",
      "Epoch 41/60\n",
      "98/98 [==============================] - 12s 121ms/step - loss: 0.7590 - accuracy: 0.7349\n",
      "Epoch 42/60\n",
      "98/98 [==============================] - 13s 131ms/step - loss: 0.7495 - accuracy: 0.7392\n",
      "Epoch 43/60\n",
      "98/98 [==============================] - 12s 119ms/step - loss: 0.7293 - accuracy: 0.7450\n",
      "Epoch 44/60\n",
      "98/98 [==============================] - 13s 130ms/step - loss: 0.7182 - accuracy: 0.7484\n",
      "Epoch 45/60\n",
      "98/98 [==============================] - 13s 136ms/step - loss: 0.6993 - accuracy: 0.7562\n",
      "Epoch 46/60\n",
      "98/98 [==============================] - 13s 136ms/step - loss: 0.6636 - accuracy: 0.7684\n",
      "Epoch 47/60\n",
      "98/98 [==============================] - 13s 134ms/step - loss: 0.6671 - accuracy: 0.7667\n",
      "Epoch 48/60\n",
      "98/98 [==============================] - 13s 135ms/step - loss: 0.6303 - accuracy: 0.7807\n",
      "Epoch 49/60\n",
      "98/98 [==============================] - 13s 131ms/step - loss: 0.6200 - accuracy: 0.7854\n",
      "Epoch 50/60\n",
      "98/98 [==============================] - 13s 136ms/step - loss: 0.6069 - accuracy: 0.7896\n",
      "Epoch 51/60\n",
      "98/98 [==============================] - 13s 129ms/step - loss: 0.5913 - accuracy: 0.7950\n",
      "Epoch 52/60\n",
      "98/98 [==============================] - 13s 128ms/step - loss: 0.5716 - accuracy: 0.8026\n",
      "Epoch 53/60\n",
      "98/98 [==============================] - 13s 132ms/step - loss: 0.5495 - accuracy: 0.8121\n",
      "Epoch 54/60\n",
      "98/98 [==============================] - 13s 129ms/step - loss: 0.5482 - accuracy: 0.8101\n",
      "Epoch 55/60\n",
      "98/98 [==============================] - 12s 127ms/step - loss: 0.5272 - accuracy: 0.8180\n",
      "Epoch 56/60\n",
      "98/98 [==============================] - 13s 137ms/step - loss: 0.5124 - accuracy: 0.8227\n",
      "Epoch 57/60\n",
      "98/98 [==============================] - 11s 116ms/step - loss: 0.4936 - accuracy: 0.8304\n",
      "Epoch 58/60\n",
      "98/98 [==============================] - 11s 116ms/step - loss: 0.4754 - accuracy: 0.8376\n",
      "Epoch 59/60\n",
      "98/98 [==============================] - 11s 110ms/step - loss: 0.4640 - accuracy: 0.8407\n",
      "Epoch 60/60\n",
      "98/98 [==============================] - 11s 110ms/step - loss: 0.4452 - accuracy: 0.8497\n"
     ]
    },
    {
     "data": {
      "text/plain": [
       "<tensorflow.python.keras.callbacks.History at 0x168206b15b0>"
      ]
     },
     "execution_count": 14,
     "metadata": {},
     "output_type": "execute_result"
    }
   ],
   "source": [
    "ann=models.Sequential([\n",
    "    layers.Flatten(input_shape=(32,32,3)),\n",
    "    layers.Dense(3000,activation='relu'),\n",
    "    layers.Dense(1000,activation='relu'),\n",
    "    layers.Dense(10,activation='softmax')\n",
    "])\n",
    "ann.compile(optimizer='adam',loss='sparse_categorical_crossentropy',metrics=['accuracy'])\n",
    "ann.fit(x_train,y_train,epochs=60,batch_size=512)"
   ]
  },
  {
   "cell_type": "markdown",
   "metadata": {},
   "source": [
    "### Now we will train the model with cnn.."
   ]
  },
  {
   "cell_type": "code",
   "execution_count": 15,
   "metadata": {},
   "outputs": [
    {
     "name": "stdout",
     "output_type": "stream",
     "text": [
      "Epoch 1/60\n",
      "98/98 [==============================] - 18s 178ms/step - loss: 1.8166 - accuracy: 0.3472\n",
      "Epoch 2/60\n",
      "98/98 [==============================] - 18s 181ms/step - loss: 1.4443 - accuracy: 0.4872\n",
      "Epoch 3/60\n",
      "98/98 [==============================] - 21s 217ms/step - loss: 1.3119 - accuracy: 0.5370\n",
      "Epoch 4/60\n",
      "98/98 [==============================] - 20s 209ms/step - loss: 1.2282 - accuracy: 0.5694\n",
      "Epoch 5/60\n",
      "98/98 [==============================] - 21s 212ms/step - loss: 1.1640 - accuracy: 0.5931\n",
      "Epoch 6/60\n",
      "98/98 [==============================] - 22s 222ms/step - loss: 1.1188 - accuracy: 0.6093\n",
      "Epoch 7/60\n",
      "98/98 [==============================] - 21s 213ms/step - loss: 1.0783 - accuracy: 0.6228\n",
      "Epoch 8/60\n",
      "98/98 [==============================] - 20s 207ms/step - loss: 1.0467 - accuracy: 0.6339\n",
      "Epoch 9/60\n",
      "98/98 [==============================] - 22s 221ms/step - loss: 1.0131 - accuracy: 0.6475\n",
      "Epoch 10/60\n",
      "98/98 [==============================] - 20s 208ms/step - loss: 0.9976 - accuracy: 0.6513\n",
      "Epoch 11/60\n",
      "98/98 [==============================] - 21s 212ms/step - loss: 0.9646 - accuracy: 0.6652\n",
      "Epoch 12/60\n",
      "98/98 [==============================] - 20s 208ms/step - loss: 0.9321 - accuracy: 0.6741\n",
      "Epoch 13/60\n",
      "98/98 [==============================] - 22s 223ms/step - loss: 0.9220 - accuracy: 0.6808\n",
      "Epoch 14/60\n",
      "98/98 [==============================] - 22s 227ms/step - loss: 0.8967 - accuracy: 0.6890\n",
      "Epoch 15/60\n",
      "98/98 [==============================] - 20s 203ms/step - loss: 0.8728 - accuracy: 0.6981\n",
      "Epoch 16/60\n",
      "98/98 [==============================] - 20s 200ms/step - loss: 0.8532 - accuracy: 0.7049\n",
      "Epoch 17/60\n",
      "98/98 [==============================] - 20s 208ms/step - loss: 0.8412 - accuracy: 0.7093\n",
      "Epoch 18/60\n",
      "98/98 [==============================] - 21s 217ms/step - loss: 0.8217 - accuracy: 0.7146\n",
      "Epoch 19/60\n",
      "98/98 [==============================] - 24s 242ms/step - loss: 0.8087 - accuracy: 0.7202\n",
      "Epoch 20/60\n",
      "98/98 [==============================] - 21s 216ms/step - loss: 0.7920 - accuracy: 0.7253\n",
      "Epoch 21/60\n",
      "98/98 [==============================] - 21s 215ms/step - loss: 0.7685 - accuracy: 0.7336\n",
      "Epoch 22/60\n",
      "98/98 [==============================] - 21s 219ms/step - loss: 0.7587 - accuracy: 0.7378\n",
      "Epoch 23/60\n",
      "98/98 [==============================] - 21s 212ms/step - loss: 0.7467 - accuracy: 0.7411\n",
      "Epoch 24/60\n",
      "98/98 [==============================] - 21s 211ms/step - loss: 0.7229 - accuracy: 0.7497\n",
      "Epoch 25/60\n",
      "98/98 [==============================] - 21s 210ms/step - loss: 0.7148 - accuracy: 0.7525\n",
      "Epoch 26/60\n",
      "98/98 [==============================] - 20s 206ms/step - loss: 0.7005 - accuracy: 0.7572\n",
      "Epoch 27/60\n",
      "98/98 [==============================] - 20s 207ms/step - loss: 0.6860 - accuracy: 0.7640\n",
      "Epoch 28/60\n",
      "98/98 [==============================] - 20s 207ms/step - loss: 0.6757 - accuracy: 0.7656\n",
      "Epoch 29/60\n",
      "98/98 [==============================] - 21s 211ms/step - loss: 0.6643 - accuracy: 0.7700\n",
      "Epoch 30/60\n",
      "98/98 [==============================] - 21s 213ms/step - loss: 0.6446 - accuracy: 0.7752\n",
      "Epoch 31/60\n",
      "98/98 [==============================] - 21s 214ms/step - loss: 0.6364 - accuracy: 0.7800\n",
      "Epoch 32/60\n",
      "98/98 [==============================] - 21s 218ms/step - loss: 0.6174 - accuracy: 0.7873\n",
      "Epoch 33/60\n",
      "98/98 [==============================] - 21s 211ms/step - loss: 0.6034 - accuracy: 0.7921\n",
      "Epoch 34/60\n",
      "98/98 [==============================] - 19s 198ms/step - loss: 0.5966 - accuracy: 0.7950\n",
      "Epoch 35/60\n",
      "98/98 [==============================] - 21s 210ms/step - loss: 0.5800 - accuracy: 0.7997\n",
      "Epoch 36/60\n",
      "98/98 [==============================] - 20s 208ms/step - loss: 0.5672 - accuracy: 0.8042\n",
      "Epoch 37/60\n",
      "98/98 [==============================] - 20s 206ms/step - loss: 0.5558 - accuracy: 0.8097\n",
      "Epoch 38/60\n",
      "98/98 [==============================] - 20s 205ms/step - loss: 0.5458 - accuracy: 0.8121\n",
      "Epoch 39/60\n",
      "98/98 [==============================] - 21s 218ms/step - loss: 0.5290 - accuracy: 0.8178\n",
      "Epoch 40/60\n",
      "98/98 [==============================] - 20s 203ms/step - loss: 0.5206 - accuracy: 0.8212\n",
      "Epoch 41/60\n",
      "98/98 [==============================] - 20s 202ms/step - loss: 0.5069 - accuracy: 0.8263\n",
      "Epoch 42/60\n",
      "98/98 [==============================] - 19s 191ms/step - loss: 0.4937 - accuracy: 0.8311\n",
      "Epoch 43/60\n",
      "98/98 [==============================] - 19s 190ms/step - loss: 0.4889 - accuracy: 0.8321\n",
      "Epoch 44/60\n",
      "98/98 [==============================] - 20s 204ms/step - loss: 0.4727 - accuracy: 0.8385\n",
      "Epoch 45/60\n",
      "98/98 [==============================] - 20s 206ms/step - loss: 0.4632 - accuracy: 0.8421\n",
      "Epoch 46/60\n",
      "98/98 [==============================] - 19s 194ms/step - loss: 0.4515 - accuracy: 0.8467\n",
      "Epoch 47/60\n",
      "98/98 [==============================] - 19s 197ms/step - loss: 0.4363 - accuracy: 0.8520\n",
      "Epoch 48/60\n",
      "98/98 [==============================] - 20s 206ms/step - loss: 0.4271 - accuracy: 0.8544\n",
      "Epoch 49/60\n",
      "98/98 [==============================] - 20s 206ms/step - loss: 0.4224 - accuracy: 0.8580\n",
      "Epoch 50/60\n",
      "98/98 [==============================] - 19s 196ms/step - loss: 0.4090 - accuracy: 0.8624\n",
      "Epoch 51/60\n",
      "98/98 [==============================] - 20s 203ms/step - loss: 0.3988 - accuracy: 0.8649\n",
      "Epoch 52/60\n",
      "98/98 [==============================] - 20s 209ms/step - loss: 0.3854 - accuracy: 0.8688\n",
      "Epoch 53/60\n",
      "98/98 [==============================] - 20s 208ms/step - loss: 0.3789 - accuracy: 0.8723\n",
      "Epoch 54/60\n",
      "98/98 [==============================] - 21s 213ms/step - loss: 0.3677 - accuracy: 0.8768\n",
      "Epoch 55/60\n",
      "98/98 [==============================] - 20s 204ms/step - loss: 0.3516 - accuracy: 0.8837\n",
      "Epoch 56/60\n",
      "98/98 [==============================] - 20s 207ms/step - loss: 0.3548 - accuracy: 0.8797\n",
      "Epoch 57/60\n",
      "98/98 [==============================] - 21s 212ms/step - loss: 0.3387 - accuracy: 0.8852\n",
      "Epoch 58/60\n",
      "98/98 [==============================] - 20s 206ms/step - loss: 0.3297 - accuracy: 0.8899\n",
      "Epoch 59/60\n",
      "98/98 [==============================] - 21s 211ms/step - loss: 0.3198 - accuracy: 0.8924\n",
      "Epoch 60/60\n",
      "98/98 [==============================] - 20s 208ms/step - loss: 0.3058 - accuracy: 0.8992\n"
     ]
    },
    {
     "data": {
      "text/plain": [
       "<tensorflow.python.keras.callbacks.History at 0x1682047e040>"
      ]
     },
     "execution_count": 15,
     "metadata": {},
     "output_type": "execute_result"
    }
   ],
   "source": [
    "cnn=keras.models.Sequential([\n",
    "    keras.layers.Conv2D(filters=32,kernel_size=3,activation='relu',input_shape=[32,32,3]),\n",
    "    keras.layers.MaxPooling2D(pool_size=2,strides=2),\n",
    "     keras.layers.Conv2D(filters=32,kernel_size=3,activation='relu'),\n",
    "    keras.layers.MaxPooling2D(pool_size=2,strides=2),\n",
    "    keras.layers.Flatten(),\n",
    "    keras.layers.Dense(128,activation='relu'),\n",
    "    keras.layers.Dense(10,activation='softmax')\n",
    "])\n",
    "cnn.compile(optimizer='adam',loss='sparse_categorical_crossentropy',metrics=['accuracy'])\n",
    "cnn.fit(x_train,y_train,epochs=60,batch_size=512)"
   ]
  },
  {
   "cell_type": "code",
   "execution_count": 16,
   "metadata": {},
   "outputs": [
    {
     "data": {
      "text/plain": [
       "array([[2.38906014e-05, 1.76554568e-06, 8.48995260e-05, ...,\n",
       "        1.80504339e-05, 9.65024537e-06, 3.46528637e-08],\n",
       "       [2.45770141e-02, 2.19184812e-02, 1.95886152e-08, ...,\n",
       "        2.15939044e-10, 9.53495681e-01, 8.71524298e-06],\n",
       "       [1.60315260e-02, 4.34168754e-03, 9.22551844e-05, ...,\n",
       "        4.89092723e-04, 9.78377640e-01, 2.35365151e-04],\n",
       "       ...,\n",
       "       [3.11074103e-07, 4.53422366e-09, 3.28284758e-03, ...,\n",
       "        7.59472186e-03, 3.36201060e-06, 1.82596271e-10],\n",
       "       [4.22093505e-03, 3.51708219e-03, 1.20500743e-03, ...,\n",
       "        7.00328674e-04, 1.03246564e-10, 4.05732953e-06],\n",
       "       [2.77310050e-11, 1.24348909e-09, 7.39133327e-07, ...,\n",
       "        9.99856710e-01, 3.05903552e-10, 7.25413818e-09]], dtype=float32)"
      ]
     },
     "execution_count": 16,
     "metadata": {},
     "output_type": "execute_result"
    }
   ],
   "source": [
    "y_p=cnn.predict(x_test)\n",
    "y_p"
   ]
  },
  {
   "cell_type": "code",
   "execution_count": 45,
   "metadata": {},
   "outputs": [
    {
     "data": {
      "text/plain": [
       "array([3, 8, 8, ..., 5, 4, 7], dtype=int64)"
      ]
     },
     "execution_count": 45,
     "metadata": {},
     "output_type": "execute_result"
    }
   ],
   "source": [
    "y_prediction=[]\n",
    "for element in y_p:\n",
    "    y_predict=np.argmax((element))\n",
    "    y_prediction.append(y_predict)\n",
    "y_prediction=np.array([y_prediction])\n",
    "y_prediction=y_prediction.reshape(-1,)\n",
    "y_prediction"
   ]
  },
  {
   "cell_type": "code",
   "execution_count": 51,
   "metadata": {},
   "outputs": [
    {
     "data": {
      "text/plain": [
       "array([3, 8, 8, ..., 5, 1, 7], dtype=uint8)"
      ]
     },
     "execution_count": 51,
     "metadata": {},
     "output_type": "execute_result"
    }
   ],
   "source": [
    "y_test=y_test.reshape(-1,)\n",
    "y_test"
   ]
  },
  {
   "cell_type": "markdown",
   "metadata": {},
   "source": [
    "### Now we will plot the x_test with actual value as title and predicted value as xlabel .."
   ]
  },
  {
   "cell_type": "code",
   "execution_count": 63,
   "metadata": {},
   "outputs": [
    {
     "data": {
      "image/png": "[encoded data removed]",
      "text/plain": [
       "<Figure size 720x360 with 1 Axes>"
      ]
     },
     "metadata": {
      "needs_background": "light"
     },
     "output_type": "display_data"
    },
    {
     "data": {
      "image/png": "[encoded data removed]",
      "text/plain": [
       "<Figure size 720x360 with 1 Axes>"
      ]
     },
     "metadata": {
      "needs_background": "light"
     },
     "output_type": "display_data"
    },
    {
     "data": {
      "image/png": "[encoded data removed]",
      "text/plain": [
       "<Figure size 720x360 with 1 Axes>"
      ]
     },
     "metadata": {
      "needs_background": "light"
     },
     "output_type": "display_data"
    },
    {
     "data": {
      "image/png": "[encoded data removed]",
      "text/plain": [
       "<Figure size 720x360 with 1 Axes>"
      ]
     },
     "metadata": {
      "needs_background": "light"
     },
     "output_type": "display_data"
    },
    {
     "data": {
      "image/png": "[encoded data removed]",
      "text/plain": [
       "<Figure size 720x360 with 1 Axes>"
      ]
     },
     "metadata": {
      "needs_background": "light"
     },
     "output_type": "display_data"
    },
    {
     "data": {
      "image/png": "[encoded data removed]",
      "text/plain": [
       "<Figure size 720x360 with 1 Axes>"
      ]
     },
     "metadata": {
      "needs_background": "light"
     },
     "output_type": "display_data"
    },
    {
     "data": {
      "image/png": "[encoded data removed]",
      "text/plain": [
       "<Figure size 720x360 with 1 Axes>"
      ]
     },
     "metadata": {
      "needs_background": "light"
     },
     "output_type": "display_data"
    },
    {
     "data": {
      "image/png": "[encoded data removed]",
      "text/plain": [
       "<Figure size 720x360 with 1 Axes>"
      ]
     },
     "metadata": {
      "needs_background": "light"
     },
     "output_type": "display_data"
    },
    {
     "data": {
      "image/png": "[encoded data removed]",
      "text/plain": [
       "<Figure size 720x360 with 1 Axes>"
      ]
     },
     "metadata": {
      "needs_background": "light"
     },
     "output_type": "display_data"
    },
    {
     "data": {
      "image/png": "[encoded data removed]",
      "text/plain": [
       "<Figure size 720x360 with 1 Axes>"
      ]
     },
     "metadata": {
      "needs_background": "light"
     },
     "output_type": "display_data"
    }
   ],
   "source": [
    "for i in range (0,10):\n",
    "    plt.figure(figsize=(10,5))\n",
    "    plt.subplot(2,5,i+1)\n",
    "    plt.imshow(x_test[i])\n",
    "    plt.title(labels[y_test[i]])\n",
    "    plt.xlabel(labels[y_prediction[i]])\n"
   ]
  },
  {
   "cell_type": "markdown",
   "metadata": {},
   "source": [
    "## Thank you !!"
   ]
  },
  {
   "cell_type": "code",
   "execution_count": null,
   "metadata": {},
   "outputs": [],
   "source": []
  }
 ],
 "metadata": {
  "kernelspec": {
   "display_name": "Python 3",
   "language": "python",
   "name": "python3"
  },
  "language_info": {
   "codemirror_mode": {
    "name": "ipython",
    "version": 3
   },
   "file_extension": ".py",
   "mimetype": "text/x-python",
   "name": "python",
   "nbconvert_exporter": "python",
   "pygments_lexer": "ipython3",
   "version": "3.8.5"
  }
 },
 "nbformat": 4,
 "nbformat_minor": 4
}
