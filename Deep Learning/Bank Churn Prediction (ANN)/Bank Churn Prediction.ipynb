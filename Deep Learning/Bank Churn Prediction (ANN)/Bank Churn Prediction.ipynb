{
 "cells": [
  {
   "cell_type": "code",
   "execution_count": 1,
   "metadata": {},
   "outputs": [],
   "source": [
    "import pandas as pd \n",
    "import numpy as np"
   ]
  },
  {
   "cell_type": "code",
   "execution_count": 2,
   "metadata": {},
   "outputs": [
    {
     "data": {
      "text/html": [
       "<div>\n",
       "<style scoped>\n",
       "    .dataframe tbody tr th:only-of-type {\n",
       "        vertical-align: middle;\n",
       "    }\n",
       "\n",
       "    .dataframe tbody tr th {\n",
       "        vertical-align: top;\n",
       "    }\n",
       "\n",
       "    .dataframe thead th {\n",
       "        text-align: right;\n",
       "    }\n",
       "</style>\n",
       "<table border=\"1\" class=\"dataframe\">\n",
       "  <thead>\n",
       "    <tr style=\"text-align: right;\">\n",
       "      <th></th>\n",
       "      <th>RowNumber</th>\n",
       "      <th>CustomerId</th>\n",
       "      <th>Surname</th>\n",
       "      <th>CreditScore</th>\n",
       "      <th>Geography</th>\n",
       "      <th>Gender</th>\n",
       "      <th>Age</th>\n",
       "      <th>Tenure</th>\n",
       "      <th>Balance</th>\n",
       "      <th>NumOfProducts</th>\n",
       "      <th>HasCrCard</th>\n",
       "      <th>IsActiveMember</th>\n",
       "      <th>EstimatedSalary</th>\n",
       "      <th>Exited</th>\n",
       "    </tr>\n",
       "  </thead>\n",
       "  <tbody>\n",
       "    <tr>\n",
       "      <th>0</th>\n",
       "      <td>1</td>\n",
       "      <td>15634602</td>\n",
       "      <td>Hargrave</td>\n",
       "      <td>619</td>\n",
       "      <td>France</td>\n",
       "      <td>Female</td>\n",
       "      <td>42</td>\n",
       "      <td>2</td>\n",
       "      <td>0.00</td>\n",
       "      <td>1</td>\n",
       "      <td>1</td>\n",
       "      <td>1</td>\n",
       "      <td>101348.88</td>\n",
       "      <td>1</td>\n",
       "    </tr>\n",
       "    <tr>\n",
       "      <th>1</th>\n",
       "      <td>2</td>\n",
       "      <td>15647311</td>\n",
       "      <td>Hill</td>\n",
       "      <td>608</td>\n",
       "      <td>Spain</td>\n",
       "      <td>Female</td>\n",
       "      <td>41</td>\n",
       "      <td>1</td>\n",
       "      <td>83807.86</td>\n",
       "      <td>1</td>\n",
       "      <td>0</td>\n",
       "      <td>1</td>\n",
       "      <td>112542.58</td>\n",
       "      <td>0</td>\n",
       "    </tr>\n",
       "    <tr>\n",
       "      <th>2</th>\n",
       "      <td>3</td>\n",
       "      <td>15619304</td>\n",
       "      <td>Onio</td>\n",
       "      <td>502</td>\n",
       "      <td>France</td>\n",
       "      <td>Female</td>\n",
       "      <td>42</td>\n",
       "      <td>8</td>\n",
       "      <td>159660.80</td>\n",
       "      <td>3</td>\n",
       "      <td>1</td>\n",
       "      <td>0</td>\n",
       "      <td>113931.57</td>\n",
       "      <td>1</td>\n",
       "    </tr>\n",
       "    <tr>\n",
       "      <th>3</th>\n",
       "      <td>4</td>\n",
       "      <td>15701354</td>\n",
       "      <td>Boni</td>\n",
       "      <td>699</td>\n",
       "      <td>France</td>\n",
       "      <td>Female</td>\n",
       "      <td>39</td>\n",
       "      <td>1</td>\n",
       "      <td>0.00</td>\n",
       "      <td>2</td>\n",
       "      <td>0</td>\n",
       "      <td>0</td>\n",
       "      <td>93826.63</td>\n",
       "      <td>0</td>\n",
       "    </tr>\n",
       "    <tr>\n",
       "      <th>4</th>\n",
       "      <td>5</td>\n",
       "      <td>15737888</td>\n",
       "      <td>Mitchell</td>\n",
       "      <td>850</td>\n",
       "      <td>Spain</td>\n",
       "      <td>Female</td>\n",
       "      <td>43</td>\n",
       "      <td>2</td>\n",
       "      <td>125510.82</td>\n",
       "      <td>1</td>\n",
       "      <td>1</td>\n",
       "      <td>1</td>\n",
       "      <td>79084.10</td>\n",
       "      <td>0</td>\n",
       "    </tr>\n",
       "  </tbody>\n",
       "</table>\n",
       "</div>"
      ],
      "text/plain": [
       "   RowNumber  CustomerId   Surname  CreditScore Geography  Gender  Age  \\\n",
       "0          1    15634602  Hargrave          619    France  Female   42   \n",
       "1          2    15647311      Hill          608     Spain  Female   41   \n",
       "2          3    15619304      Onio          502    France  Female   42   \n",
       "3          4    15701354      Boni          699    France  Female   39   \n",
       "4          5    15737888  Mitchell          850     Spain  Female   43   \n",
       "\n",
       "   Tenure    Balance  NumOfProducts  HasCrCard  IsActiveMember  \\\n",
       "0       2       0.00              1          1               1   \n",
       "1       1   83807.86              1          0               1   \n",
       "2       8  159660.80              3          1               0   \n",
       "3       1       0.00              2          0               0   \n",
       "4       2  125510.82              1          1               1   \n",
       "\n",
       "   EstimatedSalary  Exited  \n",
       "0        101348.88       1  \n",
       "1        112542.58       0  \n",
       "2        113931.57       1  \n",
       "3         93826.63       0  \n",
       "4         79084.10       0  "
      ]
     },
     "execution_count": 2,
     "metadata": {},
     "output_type": "execute_result"
    }
   ],
   "source": [
    "data=pd.read_csv('Bank Churn dataset.csv')\n",
    "data.head()"
   ]
  },
  {
   "cell_type": "markdown",
   "metadata": {},
   "source": [
    "## Dropping the first 3 columns as it is of no use for prediction."
   ]
  },
  {
   "cell_type": "code",
   "execution_count": 3,
   "metadata": {},
   "outputs": [
    {
     "data": {
      "text/html": [
       "<div>\n",
       "<style scoped>\n",
       "    .dataframe tbody tr th:only-of-type {\n",
       "        vertical-align: middle;\n",
       "    }\n",
       "\n",
       "    .dataframe tbody tr th {\n",
       "        vertical-align: top;\n",
       "    }\n",
       "\n",
       "    .dataframe thead th {\n",
       "        text-align: right;\n",
       "    }\n",
       "</style>\n",
       "<table border=\"1\" class=\"dataframe\">\n",
       "  <thead>\n",
       "    <tr style=\"text-align: right;\">\n",
       "      <th></th>\n",
       "      <th>CreditScore</th>\n",
       "      <th>Geography</th>\n",
       "      <th>Gender</th>\n",
       "      <th>Age</th>\n",
       "      <th>Tenure</th>\n",
       "      <th>Balance</th>\n",
       "      <th>NumOfProducts</th>\n",
       "      <th>HasCrCard</th>\n",
       "      <th>IsActiveMember</th>\n",
       "      <th>EstimatedSalary</th>\n",
       "      <th>Exited</th>\n",
       "    </tr>\n",
       "  </thead>\n",
       "  <tbody>\n",
       "    <tr>\n",
       "      <th>0</th>\n",
       "      <td>619</td>\n",
       "      <td>France</td>\n",
       "      <td>Female</td>\n",
       "      <td>42</td>\n",
       "      <td>2</td>\n",
       "      <td>0.00</td>\n",
       "      <td>1</td>\n",
       "      <td>1</td>\n",
       "      <td>1</td>\n",
       "      <td>101348.88</td>\n",
       "      <td>1</td>\n",
       "    </tr>\n",
       "    <tr>\n",
       "      <th>1</th>\n",
       "      <td>608</td>\n",
       "      <td>Spain</td>\n",
       "      <td>Female</td>\n",
       "      <td>41</td>\n",
       "      <td>1</td>\n",
       "      <td>83807.86</td>\n",
       "      <td>1</td>\n",
       "      <td>0</td>\n",
       "      <td>1</td>\n",
       "      <td>112542.58</td>\n",
       "      <td>0</td>\n",
       "    </tr>\n",
       "    <tr>\n",
       "      <th>2</th>\n",
       "      <td>502</td>\n",
       "      <td>France</td>\n",
       "      <td>Female</td>\n",
       "      <td>42</td>\n",
       "      <td>8</td>\n",
       "      <td>159660.80</td>\n",
       "      <td>3</td>\n",
       "      <td>1</td>\n",
       "      <td>0</td>\n",
       "      <td>113931.57</td>\n",
       "      <td>1</td>\n",
       "    </tr>\n",
       "    <tr>\n",
       "      <th>3</th>\n",
       "      <td>699</td>\n",
       "      <td>France</td>\n",
       "      <td>Female</td>\n",
       "      <td>39</td>\n",
       "      <td>1</td>\n",
       "      <td>0.00</td>\n",
       "      <td>2</td>\n",
       "      <td>0</td>\n",
       "      <td>0</td>\n",
       "      <td>93826.63</td>\n",
       "      <td>0</td>\n",
       "    </tr>\n",
       "    <tr>\n",
       "      <th>4</th>\n",
       "      <td>850</td>\n",
       "      <td>Spain</td>\n",
       "      <td>Female</td>\n",
       "      <td>43</td>\n",
       "      <td>2</td>\n",
       "      <td>125510.82</td>\n",
       "      <td>1</td>\n",
       "      <td>1</td>\n",
       "      <td>1</td>\n",
       "      <td>79084.10</td>\n",
       "      <td>0</td>\n",
       "    </tr>\n",
       "  </tbody>\n",
       "</table>\n",
       "</div>"
      ],
      "text/plain": [
       "   CreditScore Geography  Gender  Age  Tenure    Balance  NumOfProducts  \\\n",
       "0          619    France  Female   42       2       0.00              1   \n",
       "1          608     Spain  Female   41       1   83807.86              1   \n",
       "2          502    France  Female   42       8  159660.80              3   \n",
       "3          699    France  Female   39       1       0.00              2   \n",
       "4          850     Spain  Female   43       2  125510.82              1   \n",
       "\n",
       "   HasCrCard  IsActiveMember  EstimatedSalary  Exited  \n",
       "0          1               1        101348.88       1  \n",
       "1          0               1        112542.58       0  \n",
       "2          1               0        113931.57       1  \n",
       "3          0               0         93826.63       0  \n",
       "4          1               1         79084.10       0  "
      ]
     },
     "execution_count": 3,
     "metadata": {},
     "output_type": "execute_result"
    }
   ],
   "source": [
    "data.drop(['RowNumber','CustomerId','Surname'],inplace=True,axis=1)\n",
    "data.head()"
   ]
  },
  {
   "cell_type": "code",
   "execution_count": 4,
   "metadata": {},
   "outputs": [],
   "source": [
    "def print_unique_value(df):\n",
    "    for column in df:\n",
    "        if df[column].dtypes=='object':\n",
    "            print(f'{column}:{df[column].unique()}')\n",
    "\n",
    "    "
   ]
  },
  {
   "cell_type": "code",
   "execution_count": 5,
   "metadata": {},
   "outputs": [
    {
     "name": "stdout",
     "output_type": "stream",
     "text": [
      "Geography:['France' 'Spain' 'Germany']\n",
      "Gender:['Female' 'Male']\n"
     ]
    }
   ],
   "source": [
    "print_unique_value(data)"
   ]
  },
  {
   "cell_type": "code",
   "execution_count": 6,
   "metadata": {},
   "outputs": [],
   "source": [
    "data['Gender']=data['Gender'].replace({'Female':0,'Male':1})"
   ]
  },
  {
   "cell_type": "code",
   "execution_count": 7,
   "metadata": {},
   "outputs": [],
   "source": [
    "data=pd.get_dummies(data=data,columns=['Geography'])"
   ]
  },
  {
   "cell_type": "code",
   "execution_count": 8,
   "metadata": {},
   "outputs": [
    {
     "data": {
      "text/html": [
       "<div>\n",
       "<style scoped>\n",
       "    .dataframe tbody tr th:only-of-type {\n",
       "        vertical-align: middle;\n",
       "    }\n",
       "\n",
       "    .dataframe tbody tr th {\n",
       "        vertical-align: top;\n",
       "    }\n",
       "\n",
       "    .dataframe thead th {\n",
       "        text-align: right;\n",
       "    }\n",
       "</style>\n",
       "<table border=\"1\" class=\"dataframe\">\n",
       "  <thead>\n",
       "    <tr style=\"text-align: right;\">\n",
       "      <th></th>\n",
       "      <th>CreditScore</th>\n",
       "      <th>Gender</th>\n",
       "      <th>Age</th>\n",
       "      <th>Tenure</th>\n",
       "      <th>Balance</th>\n",
       "      <th>NumOfProducts</th>\n",
       "      <th>HasCrCard</th>\n",
       "      <th>IsActiveMember</th>\n",
       "      <th>EstimatedSalary</th>\n",
       "      <th>Exited</th>\n",
       "      <th>Geography_France</th>\n",
       "      <th>Geography_Germany</th>\n",
       "      <th>Geography_Spain</th>\n",
       "    </tr>\n",
       "  </thead>\n",
       "  <tbody>\n",
       "    <tr>\n",
       "      <th>0</th>\n",
       "      <td>619</td>\n",
       "      <td>0</td>\n",
       "      <td>42</td>\n",
       "      <td>2</td>\n",
       "      <td>0.00</td>\n",
       "      <td>1</td>\n",
       "      <td>1</td>\n",
       "      <td>1</td>\n",
       "      <td>101348.88</td>\n",
       "      <td>1</td>\n",
       "      <td>1</td>\n",
       "      <td>0</td>\n",
       "      <td>0</td>\n",
       "    </tr>\n",
       "    <tr>\n",
       "      <th>1</th>\n",
       "      <td>608</td>\n",
       "      <td>0</td>\n",
       "      <td>41</td>\n",
       "      <td>1</td>\n",
       "      <td>83807.86</td>\n",
       "      <td>1</td>\n",
       "      <td>0</td>\n",
       "      <td>1</td>\n",
       "      <td>112542.58</td>\n",
       "      <td>0</td>\n",
       "      <td>0</td>\n",
       "      <td>0</td>\n",
       "      <td>1</td>\n",
       "    </tr>\n",
       "    <tr>\n",
       "      <th>2</th>\n",
       "      <td>502</td>\n",
       "      <td>0</td>\n",
       "      <td>42</td>\n",
       "      <td>8</td>\n",
       "      <td>159660.80</td>\n",
       "      <td>3</td>\n",
       "      <td>1</td>\n",
       "      <td>0</td>\n",
       "      <td>113931.57</td>\n",
       "      <td>1</td>\n",
       "      <td>1</td>\n",
       "      <td>0</td>\n",
       "      <td>0</td>\n",
       "    </tr>\n",
       "    <tr>\n",
       "      <th>3</th>\n",
       "      <td>699</td>\n",
       "      <td>0</td>\n",
       "      <td>39</td>\n",
       "      <td>1</td>\n",
       "      <td>0.00</td>\n",
       "      <td>2</td>\n",
       "      <td>0</td>\n",
       "      <td>0</td>\n",
       "      <td>93826.63</td>\n",
       "      <td>0</td>\n",
       "      <td>1</td>\n",
       "      <td>0</td>\n",
       "      <td>0</td>\n",
       "    </tr>\n",
       "    <tr>\n",
       "      <th>4</th>\n",
       "      <td>850</td>\n",
       "      <td>0</td>\n",
       "      <td>43</td>\n",
       "      <td>2</td>\n",
       "      <td>125510.82</td>\n",
       "      <td>1</td>\n",
       "      <td>1</td>\n",
       "      <td>1</td>\n",
       "      <td>79084.10</td>\n",
       "      <td>0</td>\n",
       "      <td>0</td>\n",
       "      <td>0</td>\n",
       "      <td>1</td>\n",
       "    </tr>\n",
       "  </tbody>\n",
       "</table>\n",
       "</div>"
      ],
      "text/plain": [
       "   CreditScore  Gender  Age  Tenure    Balance  NumOfProducts  HasCrCard  \\\n",
       "0          619       0   42       2       0.00              1          1   \n",
       "1          608       0   41       1   83807.86              1          0   \n",
       "2          502       0   42       8  159660.80              3          1   \n",
       "3          699       0   39       1       0.00              2          0   \n",
       "4          850       0   43       2  125510.82              1          1   \n",
       "\n",
       "   IsActiveMember  EstimatedSalary  Exited  Geography_France  \\\n",
       "0               1        101348.88       1                 1   \n",
       "1               1        112542.58       0                 0   \n",
       "2               0        113931.57       1                 1   \n",
       "3               0         93826.63       0                 1   \n",
       "4               1         79084.10       0                 0   \n",
       "\n",
       "   Geography_Germany  Geography_Spain  \n",
       "0                  0                0  \n",
       "1                  0                1  \n",
       "2                  0                0  \n",
       "3                  0                0  \n",
       "4                  0                1  "
      ]
     },
     "execution_count": 8,
     "metadata": {},
     "output_type": "execute_result"
    }
   ],
   "source": [
    "data.head()"
   ]
  },
  {
   "cell_type": "code",
   "execution_count": 9,
   "metadata": {},
   "outputs": [
    {
     "data": {
      "text/plain": [
       "(10000, 13)"
      ]
     },
     "execution_count": 9,
     "metadata": {},
     "output_type": "execute_result"
    }
   ],
   "source": [
    "data.shape"
   ]
  },
  {
   "cell_type": "code",
   "execution_count": 10,
   "metadata": {},
   "outputs": [],
   "source": [
    "x=data.drop('Exited',axis=1).values\n",
    "y=data['Exited'].values"
   ]
  },
  {
   "cell_type": "code",
   "execution_count": 11,
   "metadata": {},
   "outputs": [],
   "source": [
    "from sklearn.model_selection import train_test_split\n",
    "x_train,x_test,y_train,y_test=train_test_split(x,y,random_state=0,test_size=0.25)"
   ]
  },
  {
   "cell_type": "code",
   "execution_count": 12,
   "metadata": {},
   "outputs": [],
   "source": [
    "from sklearn.preprocessing import StandardScaler\n",
    "scaler=StandardScaler()\n",
    "x_train=scaler.fit_transform(x_train)\n",
    "x_test=scaler.transform(x_test)"
   ]
  },
  {
   "cell_type": "code",
   "execution_count": 13,
   "metadata": {},
   "outputs": [
    {
     "name": "stdout",
     "output_type": "stream",
     "text": [
      "Epoch 1/100\n",
      "235/235 [==============================] - 0s 508us/step - loss: 0.6089 - accuracy: 0.6729\n",
      "Epoch 2/100\n",
      "235/235 [==============================] - 0s 507us/step - loss: 0.4792 - accuracy: 0.8023\n",
      "Epoch 3/100\n",
      "235/235 [==============================] - 0s 507us/step - loss: 0.4429 - accuracy: 0.8069\n",
      "Epoch 4/100\n",
      "235/235 [==============================] - 0s 507us/step - loss: 0.4277 - accuracy: 0.8117\n",
      "Epoch 5/100\n",
      "235/235 [==============================] - 0s 500us/step - loss: 0.4171 - accuracy: 0.8189\n",
      "Epoch 6/100\n",
      "235/235 [==============================] - 0s 511us/step - loss: 0.4078 - accuracy: 0.8231\n",
      "Epoch 7/100\n",
      "235/235 [==============================] - 0s 511us/step - loss: 0.3983 - accuracy: 0.8284\n",
      "Epoch 8/100\n",
      "235/235 [==============================] - 0s 536us/step - loss: 0.3896 - accuracy: 0.8353\n",
      "Epoch 9/100\n",
      "235/235 [==============================] - 0s 740us/step - loss: 0.3818 - accuracy: 0.8416\n",
      "Epoch 10/100\n",
      "235/235 [==============================] - 0s 695us/step - loss: 0.3753 - accuracy: 0.8468\n",
      "Epoch 11/100\n",
      "235/235 [==============================] - 0s 522us/step - loss: 0.3695 - accuracy: 0.8473\n",
      "Epoch 12/100\n",
      "235/235 [==============================] - 0s 504us/step - loss: 0.3649 - accuracy: 0.8496\n",
      "Epoch 13/100\n",
      "235/235 [==============================] - 0s 537us/step - loss: 0.3609 - accuracy: 0.8499\n",
      "Epoch 14/100\n",
      "235/235 [==============================] - 0s 567us/step - loss: 0.3576 - accuracy: 0.8536\n",
      "Epoch 15/100\n",
      "235/235 [==============================] - 0s 635us/step - loss: 0.3551 - accuracy: 0.8553\n",
      "Epoch 16/100\n",
      "235/235 [==============================] - 0s 571us/step - loss: 0.3526 - accuracy: 0.8560\n",
      "Epoch 17/100\n",
      "235/235 [==============================] - 0s 531us/step - loss: 0.3511 - accuracy: 0.8561\n",
      "Epoch 18/100\n",
      "235/235 [==============================] - 0s 503us/step - loss: 0.3495 - accuracy: 0.8572\n",
      "Epoch 19/100\n",
      "235/235 [==============================] - 0s 535us/step - loss: 0.3484 - accuracy: 0.8568\n",
      "Epoch 20/100\n",
      "235/235 [==============================] - 0s 737us/step - loss: 0.3475 - accuracy: 0.8575\n",
      "Epoch 21/100\n",
      "235/235 [==============================] - 0s 564us/step - loss: 0.3465 - accuracy: 0.8565\n",
      "Epoch 22/100\n",
      "235/235 [==============================] - 0s 502us/step - loss: 0.3459 - accuracy: 0.8577\n",
      "Epoch 23/100\n",
      "235/235 [==============================] - 0s 510us/step - loss: 0.3454 - accuracy: 0.8577\n",
      "Epoch 24/100\n",
      "235/235 [==============================] - 0s 495us/step - loss: 0.3447 - accuracy: 0.8581\n",
      "Epoch 25/100\n",
      "235/235 [==============================] - 0s 527us/step - loss: 0.3445 - accuracy: 0.8573\n",
      "Epoch 26/100\n",
      "235/235 [==============================] - 0s 508us/step - loss: 0.3443 - accuracy: 0.8571\n",
      "Epoch 27/100\n",
      "235/235 [==============================] - 0s 605us/step - loss: 0.3439 - accuracy: 0.8569\n",
      "Epoch 28/100\n",
      "235/235 [==============================] - 0s 686us/step - loss: 0.3434 - accuracy: 0.8579\n",
      "Epoch 29/100\n",
      "235/235 [==============================] - 0s 541us/step - loss: 0.3432 - accuracy: 0.8573\n",
      "Epoch 30/100\n",
      "235/235 [==============================] - 0s 503us/step - loss: 0.3428 - accuracy: 0.8577\n",
      "Epoch 31/100\n",
      "235/235 [==============================] - 0s 511us/step - loss: 0.3426 - accuracy: 0.8591\n",
      "Epoch 32/100\n",
      "235/235 [==============================] - 0s 507us/step - loss: 0.3423 - accuracy: 0.8581\n",
      "Epoch 33/100\n",
      "235/235 [==============================] - 0s 503us/step - loss: 0.3421 - accuracy: 0.8591\n",
      "Epoch 34/100\n",
      "235/235 [==============================] - 0s 505us/step - loss: 0.3420 - accuracy: 0.8599\n",
      "Epoch 35/100\n",
      "235/235 [==============================] - 0s 500us/step - loss: 0.3419 - accuracy: 0.8600\n",
      "Epoch 36/100\n",
      "235/235 [==============================] - 0s 519us/step - loss: 0.3416 - accuracy: 0.8591\n",
      "Epoch 37/100\n",
      "235/235 [==============================] - 0s 614us/step - loss: 0.3418 - accuracy: 0.8595\n",
      "Epoch 38/100\n",
      "235/235 [==============================] - 0s 633us/step - loss: 0.3415 - accuracy: 0.8601\n",
      "Epoch 39/100\n",
      "235/235 [==============================] - 0s 597us/step - loss: 0.3413 - accuracy: 0.8599\n",
      "Epoch 40/100\n",
      "235/235 [==============================] - 0s 546us/step - loss: 0.3412 - accuracy: 0.8600\n",
      "Epoch 41/100\n",
      "235/235 [==============================] - 0s 504us/step - loss: 0.3410 - accuracy: 0.8607\n",
      "Epoch 42/100\n",
      "235/235 [==============================] - 0s 516us/step - loss: 0.3409 - accuracy: 0.8603\n",
      "Epoch 43/100\n",
      "235/235 [==============================] - 0s 516us/step - loss: 0.3410 - accuracy: 0.8611\n",
      "Epoch 44/100\n",
      "235/235 [==============================] - 0s 499us/step - loss: 0.3407 - accuracy: 0.8601\n",
      "Epoch 45/100\n",
      "235/235 [==============================] - 0s 511us/step - loss: 0.3407 - accuracy: 0.8605\n",
      "Epoch 46/100\n",
      "235/235 [==============================] - 0s 500us/step - loss: 0.3407 - accuracy: 0.8595\n",
      "Epoch 47/100\n",
      "235/235 [==============================] - 0s 506us/step - loss: 0.3405 - accuracy: 0.8604\n",
      "Epoch 48/100\n",
      "235/235 [==============================] - 0s 519us/step - loss: 0.3405 - accuracy: 0.8616\n",
      "Epoch 49/100\n",
      "235/235 [==============================] - 0s 698us/step - loss: 0.3403 - accuracy: 0.8600\n",
      "Epoch 50/100\n",
      "235/235 [==============================] - 0s 578us/step - loss: 0.3403 - accuracy: 0.8615\n",
      "Epoch 51/100\n",
      "235/235 [==============================] - 0s 516us/step - loss: 0.3402 - accuracy: 0.8599\n",
      "Epoch 52/100\n",
      "235/235 [==============================] - 0s 736us/step - loss: 0.3399 - accuracy: 0.8616\n",
      "Epoch 53/100\n",
      "235/235 [==============================] - 0s 587us/step - loss: 0.3401 - accuracy: 0.8611\n",
      "Epoch 54/100\n",
      "235/235 [==============================] - 0s 526us/step - loss: 0.3402 - accuracy: 0.8605\n",
      "Epoch 55/100\n",
      "235/235 [==============================] - 0s 494us/step - loss: 0.3398 - accuracy: 0.8603\n",
      "Epoch 56/100\n",
      "235/235 [==============================] - 0s 494us/step - loss: 0.3399 - accuracy: 0.8617\n",
      "Epoch 57/100\n",
      "235/235 [==============================] - 0s 498us/step - loss: 0.3398 - accuracy: 0.8619\n",
      "Epoch 58/100\n",
      "235/235 [==============================] - 0s 499us/step - loss: 0.3396 - accuracy: 0.8607\n",
      "Epoch 59/100\n",
      "235/235 [==============================] - 0s 499us/step - loss: 0.3397 - accuracy: 0.8616\n",
      "Epoch 60/100\n",
      "235/235 [==============================] - 0s 494us/step - loss: 0.3396 - accuracy: 0.8627\n",
      "Epoch 61/100\n",
      "235/235 [==============================] - 0s 494us/step - loss: 0.3395 - accuracy: 0.8624\n",
      "Epoch 62/100\n",
      "235/235 [==============================] - 0s 505us/step - loss: 0.3393 - accuracy: 0.8613\n",
      "Epoch 63/100\n",
      "235/235 [==============================] - 0s 499us/step - loss: 0.3396 - accuracy: 0.8620\n",
      "Epoch 64/100\n",
      "235/235 [==============================] - 0s 509us/step - loss: 0.3394 - accuracy: 0.8627\n",
      "Epoch 65/100\n",
      "235/235 [==============================] - 0s 494us/step - loss: 0.3393 - accuracy: 0.8617\n",
      "Epoch 66/100\n",
      "235/235 [==============================] - 0s 493us/step - loss: 0.3392 - accuracy: 0.8628\n",
      "Epoch 67/100\n",
      "235/235 [==============================] - 0s 494us/step - loss: 0.3392 - accuracy: 0.8615\n",
      "Epoch 68/100\n",
      "235/235 [==============================] - 0s 491us/step - loss: 0.3391 - accuracy: 0.8621\n",
      "Epoch 69/100\n",
      "235/235 [==============================] - 0s 512us/step - loss: 0.3389 - accuracy: 0.8609\n",
      "Epoch 70/100\n",
      "235/235 [==============================] - 0s 494us/step - loss: 0.3391 - accuracy: 0.8629\n",
      "Epoch 71/100\n",
      "235/235 [==============================] - 0s 492us/step - loss: 0.3390 - accuracy: 0.8616\n",
      "Epoch 72/100\n",
      "235/235 [==============================] - 0s 511us/step - loss: 0.3389 - accuracy: 0.8632\n",
      "Epoch 73/100\n",
      "235/235 [==============================] - 0s 562us/step - loss: 0.3390 - accuracy: 0.8633\n",
      "Epoch 74/100\n",
      "235/235 [==============================] - 0s 535us/step - loss: 0.3389 - accuracy: 0.8621\n",
      "Epoch 75/100\n",
      "235/235 [==============================] - 0s 556us/step - loss: 0.3386 - accuracy: 0.8617\n",
      "Epoch 76/100\n",
      "235/235 [==============================] - 0s 533us/step - loss: 0.3387 - accuracy: 0.8619\n",
      "Epoch 77/100\n",
      "235/235 [==============================] - 0s 507us/step - loss: 0.3387 - accuracy: 0.8631\n",
      "Epoch 78/100\n",
      "235/235 [==============================] - 0s 507us/step - loss: 0.3386 - accuracy: 0.8621\n",
      "Epoch 79/100\n"
     ]
    },
    {
     "name": "stdout",
     "output_type": "stream",
     "text": [
      "235/235 [==============================] - 0s 511us/step - loss: 0.3388 - accuracy: 0.8628\n",
      "Epoch 80/100\n",
      "235/235 [==============================] - 0s 507us/step - loss: 0.3385 - accuracy: 0.8615\n",
      "Epoch 81/100\n",
      "235/235 [==============================] - 0s 506us/step - loss: 0.3386 - accuracy: 0.8623\n",
      "Epoch 82/100\n",
      "235/235 [==============================] - 0s 541us/step - loss: 0.3384 - accuracy: 0.8628\n",
      "Epoch 83/100\n",
      "235/235 [==============================] - 0s 507us/step - loss: 0.3385 - accuracy: 0.8628\n",
      "Epoch 84/100\n",
      "235/235 [==============================] - 0s 524us/step - loss: 0.3384 - accuracy: 0.8631\n",
      "Epoch 85/100\n",
      "235/235 [==============================] - 0s 592us/step - loss: 0.3384 - accuracy: 0.8621\n",
      "Epoch 86/100\n",
      "235/235 [==============================] - 0s 545us/step - loss: 0.3382 - accuracy: 0.8629\n",
      "Epoch 87/100\n",
      "235/235 [==============================] - 0s 507us/step - loss: 0.3383 - accuracy: 0.8613\n",
      "Epoch 88/100\n",
      "235/235 [==============================] - 0s 507us/step - loss: 0.3383 - accuracy: 0.8633\n",
      "Epoch 89/100\n",
      "235/235 [==============================] - 0s 505us/step - loss: 0.3381 - accuracy: 0.8621\n",
      "Epoch 90/100\n",
      "235/235 [==============================] - 0s 508us/step - loss: 0.3380 - accuracy: 0.8632\n",
      "Epoch 91/100\n",
      "235/235 [==============================] - 0s 520us/step - loss: 0.3380 - accuracy: 0.8627\n",
      "Epoch 92/100\n",
      "235/235 [==============================] - 0s 522us/step - loss: 0.3380 - accuracy: 0.8636\n",
      "Epoch 93/100\n",
      "235/235 [==============================] - 0s 520us/step - loss: 0.3380 - accuracy: 0.8636\n",
      "Epoch 94/100\n",
      "235/235 [==============================] - 0s 515us/step - loss: 0.3379 - accuracy: 0.8617\n",
      "Epoch 95/100\n",
      "235/235 [==============================] - 0s 529us/step - loss: 0.3376 - accuracy: 0.8631\n",
      "Epoch 96/100\n",
      "235/235 [==============================] - 0s 512us/step - loss: 0.3379 - accuracy: 0.8629\n",
      "Epoch 97/100\n",
      "235/235 [==============================] - 0s 508us/step - loss: 0.3378 - accuracy: 0.8628\n",
      "Epoch 98/100\n",
      "235/235 [==============================] - 0s 507us/step - loss: 0.3376 - accuracy: 0.8623\n",
      "Epoch 99/100\n",
      "235/235 [==============================] - 0s 511us/step - loss: 0.3378 - accuracy: 0.8633\n",
      "Epoch 100/100\n",
      "235/235 [==============================] - 0s 546us/step - loss: 0.3377 - accuracy: 0.8632\n"
     ]
    },
    {
     "data": {
      "text/plain": [
       "<tensorflow.python.keras.callbacks.History at 0x1c2909c2ca0>"
      ]
     },
     "execution_count": 13,
     "metadata": {},
     "output_type": "execute_result"
    }
   ],
   "source": [
    "import tensorflow as tf\n",
    "from tensorflow import keras\n",
    "model=keras.models.Sequential([\n",
    "    keras.layers.Dense(6,input_shape=(12,),activation='relu'),\n",
    "    keras.layers.Dense(1,activation='sigmoid')])\n",
    "model.compile(optimizer='adam',\n",
    "             loss='binary_crossentropy',\n",
    "             metrics=['accuracy'])\n",
    "model.fit(x_train,y_train,epochs=100)"
   ]
  },
  {
   "cell_type": "code",
   "execution_count": 14,
   "metadata": {},
   "outputs": [
    {
     "data": {
      "text/plain": [
       "array([[0.3108533 ],\n",
       "       [0.36067405],\n",
       "       [0.17701459],\n",
       "       [0.0634189 ],\n",
       "       [0.06571457],\n",
       "       [0.8520377 ],\n",
       "       [0.02832195],\n",
       "       [0.08493018],\n",
       "       [0.26692262],\n",
       "       [0.8250638 ]], dtype=float32)"
      ]
     },
     "execution_count": 14,
     "metadata": {},
     "output_type": "execute_result"
    }
   ],
   "source": [
    "y_p=model.predict(x_test)\n",
    "y_p[:10]"
   ]
  },
  {
   "cell_type": "code",
   "execution_count": 15,
   "metadata": {},
   "outputs": [],
   "source": [
    "y_pred=[]\n",
    "for element in y_p:\n",
    "    if element>0.5:\n",
    "        y_pred.append(1)\n",
    "    else: \n",
    "        y_pred.append(0)\n",
    "        "
   ]
  },
  {
   "cell_type": "code",
   "execution_count": 16,
   "metadata": {},
   "outputs": [
    {
     "data": {
      "text/plain": [
       "[0, 0, 0, 0, 0, 1, 0, 0, 0, 1]"
      ]
     },
     "execution_count": 16,
     "metadata": {},
     "output_type": "execute_result"
    }
   ],
   "source": [
    "y_pred[:10]"
   ]
  },
  {
   "cell_type": "code",
   "execution_count": 17,
   "metadata": {},
   "outputs": [
    {
     "data": {
      "text/plain": [
       "array([[1892,   99],\n",
       "       [ 252,  257]], dtype=int64)"
      ]
     },
     "execution_count": 17,
     "metadata": {},
     "output_type": "execute_result"
    }
   ],
   "source": [
    "from sklearn.metrics import confusion_matrix\n",
    "cm=confusion_matrix(y_test,y_pred)\n",
    "cm"
   ]
  },
  {
   "cell_type": "code",
   "execution_count": 18,
   "metadata": {},
   "outputs": [
    {
     "data": {
      "text/plain": [
       "0.8596"
      ]
     },
     "execution_count": 18,
     "metadata": {},
     "output_type": "execute_result"
    }
   ],
   "source": [
    "from sklearn.metrics import accuracy_score \n",
    "ac=accuracy_score(y_test,y_pred)\n",
    "ac"
   ]
  },
  {
   "cell_type": "code",
   "execution_count": 19,
   "metadata": {},
   "outputs": [
    {
     "data": {
      "text/plain": [
       "<tf.Tensor: shape=(2, 2), dtype=int32, numpy=\n",
       "array([[1892,   99],\n",
       "       [ 252,  257]])>"
      ]
     },
     "execution_count": 19,
     "metadata": {},
     "output_type": "execute_result"
    }
   ],
   "source": [
    "tf.math.confusion_matrix(y_test,y_pred)"
   ]
  },
  {
   "cell_type": "markdown",
   "metadata": {},
   "source": [
    "# Thank You !!"
   ]
  },
  {
   "cell_type": "code",
   "execution_count": null,
   "metadata": {},
   "outputs": [],
   "source": []
  }
 ],
 "metadata": {
  "kernelspec": {
   "display_name": "Python 3",
   "language": "python",
   "name": "python3"
  },
  "language_info": {
   "codemirror_mode": {
    "name": "ipython",
    "version": 3
   },
   "file_extension": ".py",
   "mimetype": "text/x-python",
   "name": "python",
   "nbconvert_exporter": "python",
   "pygments_lexer": "ipython3",
   "version": "3.8.5"
  }
 },
 "nbformat": 4,
 "nbformat_minor": 4
}
